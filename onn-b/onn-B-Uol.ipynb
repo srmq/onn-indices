{
 "cells": [
  {
   "cell_type": "markdown",
   "id": "41910760-4a83-42ca-b3dd-7ce20202f7c5",
   "metadata": {},
   "source": [
    "# Mysql table"
   ]
  },
  {
   "cell_type": "markdown",
   "id": "c2e9d382-48a6-46bc-baca-1265ab119a88",
   "metadata": {},
   "source": [
    "`CREATE TABLE tbBinanceDaily(symb VARCHAR(16) PRIMARY KEY, open_time TIMESTAMP NOT NULL, high DOUBLE, low DOUBLE, close DOUBLE, volume DOUBLE, close_time TIMESTAMP NOT NULL, quote_asset_vol DOUBLE, num_trades BIGINT, takerbuy_baseasset_vol DOUBLE, takerbuy_quoteasset_vol DOUBLE, INDEX idx_tbBinanceDaily_open_time USING BTREE (open_time), CONSTRAINT UNIQUE INDEX cst_tbBinanceDaily_symb_open_close (symb, open_time, close_time))`"
   ]
  },
  {
   "cell_type": "code",
   "execution_count": null,
   "id": "fd759c95-7555-4cc2-9189-cd4813a050ba",
   "metadata": {},
   "outputs": [],
   "source": []
  }
 ],
 "metadata": {
  "kernelspec": {
   "display_name": "Python 3 (ipykernel)",
   "language": "python",
   "name": "python3"
  },
  "language_info": {
   "codemirror_mode": {
    "name": "ipython",
    "version": 3
   },
   "file_extension": ".py",
   "mimetype": "text/x-python",
   "name": "python",
   "nbconvert_exporter": "python",
   "pygments_lexer": "ipython3",
   "version": "3.8.10"
  }
 },
 "nbformat": 4,
 "nbformat_minor": 5
}
